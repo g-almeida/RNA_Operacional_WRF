{
 "cells": [
  {
   "cell_type": "markdown",
   "id": "29cf546f",
   "metadata": {},
   "source": [
    "# Treating the Observed Data from API.\n",
    "## Example with output file from the query running on the lab server\n"
   ]
  },
  {
   "cell_type": "code",
   "execution_count": 1,
   "id": "5a365d84-82ba-4227-b564-486d722a3b3d",
   "metadata": {},
   "outputs": [],
   "source": [
    "import pandas as pd\n",
    "#obs = pd.read_csv('/home/github/RNA_Operacional_WRF/files/obs_data/hourly_data.csv')\n",
    "import sys\n",
    "sys.path.append('/home/github/RNA_Operacional_WRF')\n",
    "import API_output_treatment as api_t"
   ]
  },
  {
   "cell_type": "code",
   "execution_count": 2,
   "id": "ab97c562-0912-4f8e-8a72-6d43069d0648",
   "metadata": {},
   "outputs": [
    {
     "data": {
      "text/html": [
       "<div>\n",
       "<style scoped>\n",
       "    .dataframe tbody tr th:only-of-type {\n",
       "        vertical-align: middle;\n",
       "    }\n",
       "\n",
       "    .dataframe tbody tr th {\n",
       "        vertical-align: top;\n",
       "    }\n",
       "\n",
       "    .dataframe thead th {\n",
       "        text-align: right;\n",
       "    }\n",
       "</style>\n",
       "<table border=\"1\" class=\"dataframe\">\n",
       "  <thead>\n",
       "    <tr style=\"text-align: right;\">\n",
       "      <th></th>\n",
       "      <th>data</th>\n",
       "      <th>chuva 1h</th>\n",
       "    </tr>\n",
       "  </thead>\n",
       "  <tbody>\n",
       "    <tr>\n",
       "      <th>179</th>\n",
       "      <td>2022-03-23 23:00:00</td>\n",
       "      <td>0.01</td>\n",
       "    </tr>\n",
       "    <tr>\n",
       "      <th>209</th>\n",
       "      <td>2022-03-23 23:00:00</td>\n",
       "      <td>0.01</td>\n",
       "    </tr>\n",
       "    <tr>\n",
       "      <th>239</th>\n",
       "      <td>2022-03-24 00:00:00</td>\n",
       "      <td>0.01</td>\n",
       "    </tr>\n",
       "    <tr>\n",
       "      <th>269</th>\n",
       "      <td>2022-03-24 01:00:00</td>\n",
       "      <td>0.01</td>\n",
       "    </tr>\n",
       "    <tr>\n",
       "      <th>299</th>\n",
       "      <td>2022-03-24 02:00:00</td>\n",
       "      <td>0.01</td>\n",
       "    </tr>\n",
       "    <tr>\n",
       "      <th>...</th>\n",
       "      <td>...</td>\n",
       "      <td>...</td>\n",
       "    </tr>\n",
       "    <tr>\n",
       "      <th>25947</th>\n",
       "      <td>2022-04-29 18:00:00</td>\n",
       "      <td>0.01</td>\n",
       "    </tr>\n",
       "    <tr>\n",
       "      <th>25977</th>\n",
       "      <td>2022-04-29 19:00:00</td>\n",
       "      <td>0.01</td>\n",
       "    </tr>\n",
       "    <tr>\n",
       "      <th>26007</th>\n",
       "      <td>2022-04-29 20:00:00</td>\n",
       "      <td>0.01</td>\n",
       "    </tr>\n",
       "    <tr>\n",
       "      <th>26037</th>\n",
       "      <td>2022-04-29 21:00:00</td>\n",
       "      <td>0.01</td>\n",
       "    </tr>\n",
       "    <tr>\n",
       "      <th>26067</th>\n",
       "      <td>2022-04-29 22:00:00</td>\n",
       "      <td>0.01</td>\n",
       "    </tr>\n",
       "  </tbody>\n",
       "</table>\n",
       "<p>863 rows × 2 columns</p>\n",
       "</div>"
      ],
      "text/plain": [
       "                     data  chuva 1h\n",
       "179   2022-03-23 23:00:00      0.01\n",
       "209   2022-03-23 23:00:00      0.01\n",
       "239   2022-03-24 00:00:00      0.01\n",
       "269   2022-03-24 01:00:00      0.01\n",
       "299   2022-03-24 02:00:00      0.01\n",
       "...                   ...       ...\n",
       "25947 2022-04-29 18:00:00      0.01\n",
       "25977 2022-04-29 19:00:00      0.01\n",
       "26007 2022-04-29 20:00:00      0.01\n",
       "26037 2022-04-29 21:00:00      0.01\n",
       "26067 2022-04-29 22:00:00      0.01\n",
       "\n",
       "[863 rows x 2 columns]"
      ]
     },
     "execution_count": 2,
     "metadata": {},
     "output_type": "execute_result"
    }
   ],
   "source": [
    "# This the output file from the query running on the lab server\n",
    "path = '/home/github/RNA_Operacional_WRF/files/obs_data/hourly_data.csv' \n",
    "\n",
    "# You'll need to provide the path and station name as in the file\n",
    "api_t.observed_data_reading(path, 'Barreto 1')"
   ]
  },
  {
   "cell_type": "code",
   "execution_count": null,
   "id": "a0d406b8",
   "metadata": {},
   "outputs": [],
   "source": []
  }
 ],
 "metadata": {
  "interpreter": {
   "hash": "ec5cb7d72062a004a3d084f9d6c9f89d5abbe74a461fa068d596fa7b5f5be6cc"
  },
  "kernelspec": {
   "display_name": "Norsk",
   "language": "python",
   "name": "python3"
  },
  "language_info": {
   "codemirror_mode": {
    "name": "ipython",
    "version": 3
   },
   "file_extension": ".py",
   "mimetype": "text/x-python",
   "name": "python",
   "nbconvert_exporter": "python",
   "pygments_lexer": "ipython3",
   "version": "3.8.8"
  }
 },
 "nbformat": 4,
 "nbformat_minor": 5
}
