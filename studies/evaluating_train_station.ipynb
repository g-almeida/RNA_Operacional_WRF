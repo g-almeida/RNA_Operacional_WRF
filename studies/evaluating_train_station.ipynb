{
 "cells": [
  {
   "cell_type": "code",
   "execution_count": 3,
   "metadata": {},
   "outputs": [],
   "source": [
    "import os \n",
    "import pandas as pd\n"
   ]
  },
  {
   "cell_type": "code",
   "execution_count": 24,
   "metadata": {},
   "outputs": [],
   "source": [
    "\n",
    "df_dict = dict()\n",
    "for file in os.listdir('C:/Users/a711301/LocalGab/UFF/PMN/data/OutAbr'):\n",
    "    if \"OutAbr\" in file:\n",
    "        station_name = file.split('.')[0].split(\"_\")[-1]\n",
    "        file_df = pd.read_csv('C:/Users/a711301/LocalGab/UFF/PMN/data/OutAbr/' + file)\n",
    "        \n",
    "        df_dict.update({station_name : file_df})"
   ]
  },
  {
   "cell_type": "code",
   "execution_count": 22,
   "metadata": {},
   "outputs": [],
   "source": [
    "def calc_rain_perc(df):\n",
    "    \"\"\"calculates precipitation percentual on set\n",
    "\n",
    "    Parameters\n",
    "    ----------\n",
    "    df : pd.DataFrame\n",
    "        Station training set; has wrf forecast and observed precipitation\n",
    "\n",
    "    Returns\n",
    "    -------\n",
    "    float\n",
    "        returns the float percentage of precipitation on present set \n",
    "    \"\"\"\n",
    "    total = len(df)\n",
    "    rain_hours = len(df.where(df['precipitacao_observada']!=0).dropna())\n",
    "    rain_perc = rain_hours/total\n",
    "    return rain_perc"
   ]
  },
  {
   "cell_type": "code",
   "execution_count": 45,
   "metadata": {},
   "outputs": [],
   "source": [
    "perc_dict = {}\n",
    "for station in df_dict.keys():\n",
    "    rain_perc = calc_rain_perc(df_dict[station])\n",
    "    perc_dict.update({station : rain_perc})"
   ]
  },
  {
   "cell_type": "code",
   "execution_count": 48,
   "metadata": {},
   "outputs": [],
   "source": [
    "perc_max = 0\n",
    "for station in perc_dict.keys():\n",
    "    value = perc_dict[station]\n",
    "    if value > perc_max:\n",
    "        perc_max = value\n",
    "        better_set = {station : perc_dict[station]}"
   ]
  },
  {
   "cell_type": "code",
   "execution_count": 49,
   "metadata": {},
   "outputs": [
    {
     "data": {
      "text/plain": [
       "{'Maravista': 0.045068027210884355}"
      ]
     },
     "execution_count": 49,
     "metadata": {},
     "output_type": "execute_result"
    }
   ],
   "source": [
    "better_set"
   ]
  },
  {
   "cell_type": "code",
   "execution_count": 51,
   "metadata": {},
   "outputs": [
    {
     "data": {
      "text/plain": [
       "['UTC_OutAbr_WRF_obs_Maravista.csv', 'UTC_SetOut_WRF_obs_Maravista.csv']"
      ]
     },
     "execution_count": 51,
     "metadata": {},
     "output_type": "execute_result"
    }
   ],
   "source": [
    "mar = list()\n",
    "for file in os.listdir('C:/Users/a711301/LocalGab/UFF/PMN/data/OutAbr'):\n",
    "    if 'Maravista' in file:\n",
    "        mar.append(file)\n",
    "\n",
    "mar"
   ]
  },
  {
   "cell_type": "code",
   "execution_count": 76,
   "metadata": {},
   "outputs": [
    {
     "data": {
      "text/html": [
       "<div>\n",
       "<style scoped>\n",
       "    .dataframe tbody tr th:only-of-type {\n",
       "        vertical-align: middle;\n",
       "    }\n",
       "\n",
       "    .dataframe tbody tr th {\n",
       "        vertical-align: top;\n",
       "    }\n",
       "\n",
       "    .dataframe thead th {\n",
       "        text-align: right;\n",
       "    }\n",
       "</style>\n",
       "<table border=\"1\" class=\"dataframe\">\n",
       "  <thead>\n",
       "    <tr style=\"text-align: right;\">\n",
       "      <th></th>\n",
       "      <th>perc</th>\n",
       "    </tr>\n",
       "  </thead>\n",
       "  <tbody>\n",
       "    <tr>\n",
       "      <th>Maravista</th>\n",
       "      <td>0.045068</td>\n",
       "    </tr>\n",
       "    <tr>\n",
       "      <th>Santa Bárbara 2</th>\n",
       "      <td>0.042517</td>\n",
       "    </tr>\n",
       "    <tr>\n",
       "      <th>Engenho do Mato</th>\n",
       "      <td>0.041667</td>\n",
       "    </tr>\n",
       "    <tr>\n",
       "      <th>Travessa Beltr╞o</th>\n",
       "      <td>0.039966</td>\n",
       "    </tr>\n",
       "    <tr>\n",
       "      <th>Bonfim 2</th>\n",
       "      <td>0.039966</td>\n",
       "    </tr>\n",
       "    <tr>\n",
       "      <th>Maria Paula</th>\n",
       "      <td>0.037415</td>\n",
       "    </tr>\n",
       "    <tr>\n",
       "      <th>Sapê</th>\n",
       "      <td>0.036565</td>\n",
       "    </tr>\n",
       "    <tr>\n",
       "      <th>Morro do Estado</th>\n",
       "      <td>0.035714</td>\n",
       "    </tr>\n",
       "    <tr>\n",
       "      <th>Itaipú</th>\n",
       "      <td>0.035714</td>\n",
       "    </tr>\n",
       "    <tr>\n",
       "      <th>Jurujuba</th>\n",
       "      <td>0.035714</td>\n",
       "    </tr>\n",
       "  </tbody>\n",
       "</table>\n",
       "</div>"
      ],
      "text/plain": [
       "                      perc\n",
       "Maravista         0.045068\n",
       "Santa Bárbara 2   0.042517\n",
       "Engenho do Mato   0.041667\n",
       "Travessa Beltr╞o  0.039966\n",
       "Bonfim 2          0.039966\n",
       "Maria Paula       0.037415\n",
       "Sapê              0.036565\n",
       "Morro do Estado   0.035714\n",
       "Itaipú            0.035714\n",
       "Jurujuba          0.035714"
      ]
     },
     "execution_count": 76,
     "metadata": {},
     "output_type": "execute_result"
    }
   ],
   "source": [
    "perc_df = pd.DataFrame.from_dict(data=perc_dict,orient='index', columns=['perc'])\n",
    "perc_df.sort_values('perc', ascending=False).head(10)"
   ]
  },
  {
   "cell_type": "code",
   "execution_count": null,
   "metadata": {},
   "outputs": [],
   "source": []
  }
 ],
 "metadata": {
  "kernelspec": {
   "display_name": "pmn",
   "language": "python",
   "name": "python3"
  },
  "language_info": {
   "codemirror_mode": {
    "name": "ipython",
    "version": 3
   },
   "file_extension": ".py",
   "mimetype": "text/x-python",
   "name": "python",
   "nbconvert_exporter": "python",
   "pygments_lexer": "ipython3",
   "version": "3.9.15"
  },
  "orig_nbformat": 4,
  "vscode": {
   "interpreter": {
    "hash": "ba6341b9fd97b62925568a116bfce98f5a18288ae009bae5ca1f4b2076e8d957"
   }
  }
 },
 "nbformat": 4,
 "nbformat_minor": 2
}
