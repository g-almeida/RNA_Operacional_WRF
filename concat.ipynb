{
 "cells": [
  {
   "cell_type": "code",
   "execution_count": 11,
   "metadata": {},
   "outputs": [],
   "source": [
    "import os\n",
    "import shutil\n",
    "import datetime\n",
    "import pandas as pd\n",
    "files = os.listdir(\"/home/data/PMN/WRF_extrai_rn\")"
   ]
  },
  {
   "cell_type": "markdown",
   "metadata": {},
   "source": [
    "# Selecting Data"
   ]
  },
  {
   "cell_type": "code",
   "execution_count": 5,
   "metadata": {},
   "outputs": [],
   "source": [
    "# Filtering for Barreto Files\n",
    "barreto_list = []\n",
    "for cada in files:\n",
    "  if 'Barreto' in cada and 'Zone' not in cada:\n",
    "    barreto_list.append(cada)"
   ]
  },
  {
   "cell_type": "code",
   "execution_count": 32,
   "metadata": {},
   "outputs": [],
   "source": [
    "\n",
    "def files_date_filter(start_date, end_date):\n",
    "      \n",
    "    b_prec = [] # lista dos arquivos de chuva em barreto\n",
    "    b_vent = [] # lista dos arquivos de vento em barreto\n",
    "    others = [] # lista dos restantes\n",
    "    for x in barreto_list:\n",
    "      if 'prec' in x:\n",
    "        b_prec.append(x)\n",
    "      elif 'vent' in x:\n",
    "        b_vent.append(x)\n",
    "      else:\n",
    "        others.append(x)\n",
    "\n",
    "    datefilter=[]\n",
    "    while start_date <= end_date:\n",
    "      datestr = start_date.strftime(\"%Y-%m-%d\").replace('-','')\n",
    "      for cada in others:\n",
    "        if datestr in cada:\n",
    "          datefilter.append(cada)    \n",
    "      start_date+=datetime.timedelta(days=1)\n",
    "\n",
    "    return datefilter\n",
    "  "
   ]
  },
  {
   "cell_type": "code",
   "execution_count": 33,
   "metadata": {},
   "outputs": [],
   "source": [
    "date = datetime.datetime(2021,7,10)\n",
    "date2 = datetime.datetime(2021,10,20)\n",
    "datefilter = files_date_filter(date, date2)"
   ]
  },
  {
   "cell_type": "code",
   "execution_count": 36,
   "metadata": {},
   "outputs": [],
   "source": [
    "for file in files:\n",
    "  if file in datefilter:\n",
    "    # Primeiro path é o local de extração dos dados disponibilizados pelo WRF\n",
    "    # Segundo path é o local onde será lido os dados filtrados para barreto na data especificada\n",
    "    shutil.move(\"/home/data/PMN/WRF_extrai_rn/\"+ file, \"/home/data/PMN/WRF_Barreto_10-7_20-10\")"
   ]
  },
  {
   "cell_type": "markdown",
   "metadata": {},
   "source": [
    "# Formatting each of the files"
   ]
  },
  {
   "cell_type": "code",
   "execution_count": 37,
   "metadata": {},
   "outputs": [],
   "source": [
    "def adaptingTXT(path):\n",
    "  data = pd.read_csv(path, sep='\\s+')\n",
    "  pt_cols=['DATA', 'HORA','Barreto','Pto N','Pto S','Pto E','Pto W','Pto SE','Pto NE','Pto SW','Pto NW']\n",
    "  vent_cols=['DATA',    'HORA',     'Barreto_ws10', 'Barreto_wd10', 'Pto N_ws10',   'Pto N_wd10',   'Pto S_ws10',   'Pto S_wd10',   'Pto E_ws10',   'Pto E_wd10',   'Pto W_ws10',   'Pto W_wd10',   'Pto SE_ws10',  'Pto SE_wd10' , 'Pto NE_ws10' , 'Pto NE_wd10'  ,'Pto SW_ws10'  ,'Pto SW_wd10','Pto NW_ws10', 'Pto NW_wd10']\n",
    "\n",
    "  try:\n",
    "    data.drop(['Pto.8', 'SE_ws10', 'Pto.9', 'SE_wd10', 'Pto.10', 'NE_ws10', 'Pto.11',\n",
    "       'NE_wd10', 'Pto.12', 'SW_ws10', 'Pto.13', 'SW_wd10', 'Pto.14',\n",
    "       'NW_ws10', 'Pto.15', 'NW_wd10'], axis=1, inplace=True)\n",
    "    data.columns=vent_cols\n",
    "  except:\n",
    "    data.drop(['Pto.4', 'SE', 'Pto.5', 'NE', 'Pto.6', 'SW', 'Pto.7','NW'], axis=1, inplace=True)\n",
    "    data.columns=pt_cols\n",
    "  \n",
    "  return data"
   ]
  },
  {
   "cell_type": "code",
   "execution_count": 38,
   "metadata": {},
   "outputs": [],
   "source": [
    "os.makedirs('/home/github/Climatology/PMN/files/OctoberWRF')"
   ]
  },
  {
   "cell_type": "code",
   "execution_count": 41,
   "metadata": {},
   "outputs": [
    {
     "name": "stdout",
     "output_type": "stream",
     "text": [
      "/home/data/PMN/WRF_Barreto_10-7_20-10/RN_temp_Barreto_20210804.txt\n",
      "/home/data/PMN/WRF_Barreto_10-7_20-10/RN_temp_Barreto_20210810.txt\n",
      "/home/data/PMN/WRF_Barreto_10-7_20-10/RN_temp_Barreto_20211010.txt\n",
      "/home/data/PMN/WRF_Barreto_10-7_20-10/RN_temp_Barreto_20210725.txt\n",
      "/home/data/PMN/WRF_Barreto_10-7_20-10/RN_temp_Barreto_20211005.txt\n",
      "/home/data/PMN/WRF_Barreto_10-7_20-10/RN_temp_Barreto_20210826.txt\n",
      "/home/data/PMN/WRF_Barreto_10-7_20-10/RN_temp_Barreto_20210915.txt\n",
      "/home/data/PMN/WRF_Barreto_10-7_20-10/RN_temp_Barreto_20211020.txt\n",
      "/home/data/PMN/WRF_Barreto_10-7_20-10/RN_temp_Barreto_20210812.txt\n",
      "/home/data/PMN/WRF_Barreto_10-7_20-10/RN_temp_Barreto_20210929.txt\n",
      "/home/data/PMN/WRF_Barreto_10-7_20-10/RN_temp_Barreto_20211009.txt\n",
      "/home/data/PMN/WRF_Barreto_10-7_20-10/RN_temp_Barreto_20211011.txt\n",
      "/home/data/PMN/WRF_Barreto_10-7_20-10/RN_temp_Barreto_20211013.txt\n",
      "/home/data/PMN/WRF_Barreto_10-7_20-10/RN_temp_Barreto_20210905.txt\n",
      "/home/data/PMN/WRF_Barreto_10-7_20-10/RN_temp_Barreto_20210830.txt\n",
      "/home/data/PMN/WRF_Barreto_10-7_20-10/RN_temp_Barreto_20210711.txt\n",
      "/home/data/PMN/WRF_Barreto_10-7_20-10/RN_temp_Barreto_20210815.txt\n",
      "/home/data/PMN/WRF_Barreto_10-7_20-10/RN_temp_Barreto_20210908.txt\n",
      "/home/data/PMN/WRF_Barreto_10-7_20-10/RN_temp_Barreto_20210902.txt\n",
      "/home/data/PMN/WRF_Barreto_10-7_20-10/RN_temp_Barreto_20210717.txt\n",
      "/home/data/PMN/WRF_Barreto_10-7_20-10/RN_temp_Barreto_20210920.txt\n",
      "/home/data/PMN/WRF_Barreto_10-7_20-10/RN_temp_Barreto_20210829.txt\n",
      "/home/data/PMN/WRF_Barreto_10-7_20-10/RN_temp_Barreto_20210901.txt\n",
      "/home/data/PMN/WRF_Barreto_10-7_20-10/RN_temp_Barreto_20210716.txt\n",
      "/home/data/PMN/WRF_Barreto_10-7_20-10/RN_temp_Barreto_20210917.txt\n",
      "/home/data/PMN/WRF_Barreto_10-7_20-10/RN_temp_Barreto_20210813.txt\n",
      "/home/data/PMN/WRF_Barreto_10-7_20-10/RN_temp_Barreto_20211018.txt\n",
      "/home/data/PMN/WRF_Barreto_10-7_20-10/RN_temp_Barreto_20210713.txt\n",
      "/home/data/PMN/WRF_Barreto_10-7_20-10/RN_temp_Barreto_20211006.txt\n",
      "/home/data/PMN/WRF_Barreto_10-7_20-10/RN_temp_Barreto_20210914.txt\n",
      "/home/data/PMN/WRF_Barreto_10-7_20-10/RN_temp_Barreto_20211004.txt\n",
      "/home/data/PMN/WRF_Barreto_10-7_20-10/RN_temp_Barreto_20211015.txt\n",
      "/home/data/PMN/WRF_Barreto_10-7_20-10/RN_temp_Barreto_20210930.txt\n",
      "/home/data/PMN/WRF_Barreto_10-7_20-10/RN_temp_Barreto_20210923.txt\n",
      "/home/data/PMN/WRF_Barreto_10-7_20-10/RN_temp_Barreto_20210911.txt\n",
      "/home/data/PMN/WRF_Barreto_10-7_20-10/RN_temp_Barreto_20211003.txt\n",
      "/home/data/PMN/WRF_Barreto_10-7_20-10/RN_temp_Barreto_20210927.txt\n",
      "/home/data/PMN/WRF_Barreto_10-7_20-10/RN_temp_Barreto_20210925.txt\n",
      "/home/data/PMN/WRF_Barreto_10-7_20-10/RN_temp_Barreto_20210808.txt\n",
      "/home/data/PMN/WRF_Barreto_10-7_20-10/RN_temp_Barreto_20210809.txt\n",
      "/home/data/PMN/WRF_Barreto_10-7_20-10/RN_temp_Barreto_20210828.txt\n",
      "/home/data/PMN/WRF_Barreto_10-7_20-10/RN_temp_Barreto_20210907.txt\n",
      "/home/data/PMN/WRF_Barreto_10-7_20-10/RN_temp_Barreto_20210710.txt\n",
      "/home/data/PMN/WRF_Barreto_10-7_20-10/RN_temp_Barreto_20210916.txt\n",
      "/home/data/PMN/WRF_Barreto_10-7_20-10/RN_temp_Barreto_20210928.txt\n",
      "/home/data/PMN/WRF_Barreto_10-7_20-10/RN_temp_Barreto_20210910.txt\n",
      "/home/data/PMN/WRF_Barreto_10-7_20-10/RN_temp_Barreto_20211007.txt\n",
      "/home/data/PMN/WRF_Barreto_10-7_20-10/RN_temp_Barreto_20210912.txt\n",
      "/home/data/PMN/WRF_Barreto_10-7_20-10/RN_temp_Barreto_20210921.txt\n",
      "/home/data/PMN/WRF_Barreto_10-7_20-10/RN_temp_Barreto_20210715.txt\n",
      "/home/data/PMN/WRF_Barreto_10-7_20-10/RN_temp_Barreto_20210807.txt\n",
      "/home/data/PMN/WRF_Barreto_10-7_20-10/RN_temp_Barreto_20210918.txt\n",
      "/home/data/PMN/WRF_Barreto_10-7_20-10/RN_temp_Barreto_20211002.txt\n",
      "/home/data/PMN/WRF_Barreto_10-7_20-10/RN_temp_Barreto_20210818.txt\n",
      "/home/data/PMN/WRF_Barreto_10-7_20-10/RN_temp_Barreto_20210805.txt\n",
      "/home/data/PMN/WRF_Barreto_10-7_20-10/RN_temp_Barreto_20210922.txt\n",
      "/home/data/PMN/WRF_Barreto_10-7_20-10/RN_temp_Barreto_20210724.txt\n",
      "/home/data/PMN/WRF_Barreto_10-7_20-10/RN_temp_Barreto_20210824.txt\n",
      "/home/data/PMN/WRF_Barreto_10-7_20-10/RN_temp_Barreto_20210823.txt\n",
      "/home/data/PMN/WRF_Barreto_10-7_20-10/RN_temp_Barreto_20211016.txt\n",
      "/home/data/PMN/WRF_Barreto_10-7_20-10/RN_temp_Barreto_20210714.txt\n",
      "/home/data/PMN/WRF_Barreto_10-7_20-10/RN_temp_Barreto_20210909.txt\n",
      "/home/data/PMN/WRF_Barreto_10-7_20-10/RN_temp_Barreto_20210721.txt\n",
      "/home/data/PMN/WRF_Barreto_10-7_20-10/RN_temp_Barreto_20210820.txt\n",
      "/home/data/PMN/WRF_Barreto_10-7_20-10/RN_temp_Barreto_20211014.txt\n",
      "/home/data/PMN/WRF_Barreto_10-7_20-10/RN_temp_Barreto_20210728.txt\n",
      "/home/data/PMN/WRF_Barreto_10-7_20-10/RN_temp_Barreto_20210816.txt\n",
      "/home/data/PMN/WRF_Barreto_10-7_20-10/RN_temp_Barreto_20210831.txt\n",
      "/home/data/PMN/WRF_Barreto_10-7_20-10/RN_temp_Barreto_20210722.txt\n",
      "/home/data/PMN/WRF_Barreto_10-7_20-10/RN_temp_Barreto_20210904.txt\n",
      "/home/data/PMN/WRF_Barreto_10-7_20-10/RN_temp_Barreto_20210712.txt\n",
      "/home/data/PMN/WRF_Barreto_10-7_20-10/RN_temp_Barreto_20210926.txt\n",
      "/home/data/PMN/WRF_Barreto_10-7_20-10/RN_temp_Barreto_20210913.txt\n",
      "/home/data/PMN/WRF_Barreto_10-7_20-10/RN_temp_Barreto_20210906.txt\n",
      "/home/data/PMN/WRF_Barreto_10-7_20-10/RN_temp_Barreto_20210819.txt\n",
      "/home/data/PMN/WRF_Barreto_10-7_20-10/RN_temp_Barreto_20210723.txt\n",
      "/home/data/PMN/WRF_Barreto_10-7_20-10/RN_temp_Barreto_20210806.txt\n",
      "/home/data/PMN/WRF_Barreto_10-7_20-10/RN_temp_Barreto_20211017.txt\n",
      "/home/data/PMN/WRF_Barreto_10-7_20-10/RN_temp_Barreto_20211012.txt\n",
      "/home/data/PMN/WRF_Barreto_10-7_20-10/RN_temp_Barreto_20211001.txt\n",
      "/home/data/PMN/WRF_Barreto_10-7_20-10/RN_temp_Barreto_20210822.txt\n",
      "/home/data/PMN/WRF_Barreto_10-7_20-10/RN_temp_Barreto_20210903.txt\n",
      "/home/data/PMN/WRF_Barreto_10-7_20-10/RN_temp_Barreto_20211008.txt\n",
      "/home/data/PMN/WRF_Barreto_10-7_20-10/RN_temp_Barreto_20210811.txt\n",
      "/home/data/PMN/WRF_Barreto_10-7_20-10/RN_temp_Barreto_20210825.txt\n",
      "/home/data/PMN/WRF_Barreto_10-7_20-10/RN_temp_Barreto_20210924.txt\n",
      "/home/data/PMN/WRF_Barreto_10-7_20-10/RN_temp_Barreto_20210919.txt\n",
      "/home/data/PMN/WRF_Barreto_10-7_20-10/RN_temp_Barreto_20210727.txt\n",
      "/home/data/PMN/WRF_Barreto_10-7_20-10/RN_temp_Barreto_20210726.txt\n",
      "/home/data/PMN/WRF_Barreto_10-7_20-10/RN_temp_Barreto_20210827.txt\n",
      "/home/data/PMN/WRF_Barreto_10-7_20-10/RN_temp_Barreto_20210821.txt\n",
      "/home/data/PMN/WRF_Barreto_10-7_20-10/RN_temp_Barreto_20210814.txt\n"
     ]
    }
   ],
   "source": [
    "path = \"/home/data/PMN/WRF_Barreto_10-7_20-10/\"\n",
    "for cada in os.listdir(path):\n",
    "  path2 = path+cada\n",
    "  print(path2)\n",
    "  csv = adaptingTXT(path2)\n",
    " \n",
    "  csv.to_csv('/home/github/Climatology/PMN/files/OctoberWRF/'+cada[:-3]+'csv')"
   ]
  },
  {
   "cell_type": "code",
   "execution_count": 43,
   "metadata": {},
   "outputs": [],
   "source": [
    "# Check the other stuff on filtering notebook on colab from glmalmeida@id.uff.br"
   ]
  },
  {
   "cell_type": "code",
   "execution_count": null,
   "metadata": {},
   "outputs": [],
   "source": []
  }
 ],
 "metadata": {
  "interpreter": {
   "hash": "0758a891eb7969eb33f5b4bf6e50552c83fe17060df66a72595bef353f9015de"
  },
  "kernelspec": {
   "display_name": "Python 3.8.3 64-bit ('smap': conda)",
   "language": "python",
   "name": "python3"
  },
  "language_info": {
   "codemirror_mode": {
    "name": "ipython",
    "version": 3
   },
   "file_extension": ".py",
   "mimetype": "text/x-python",
   "name": "python",
   "nbconvert_exporter": "python",
   "pygments_lexer": "ipython3",
   "version": "3.8.3"
  },
  "orig_nbformat": 4
 },
 "nbformat": 4,
 "nbformat_minor": 2
}
